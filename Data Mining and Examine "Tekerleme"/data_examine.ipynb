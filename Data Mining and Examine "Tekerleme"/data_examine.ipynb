{
 "cells": [
  {
   "cell_type": "code",
   "execution_count": 457,
   "metadata": {},
   "outputs": [],
   "source": [
    "import pandas as pd"
   ]
  },
  {
   "cell_type": "code",
   "execution_count": 458,
   "metadata": {},
   "outputs": [],
   "source": [
    "data=pd.read_csv(\"tekerlemeler.csv\", encoding='utf-8',sep='\\t')"
   ]
  },
  {
   "cell_type": "code",
   "execution_count": 459,
   "metadata": {},
   "outputs": [
    {
     "name": "stdout",
     "output_type": "stream",
     "text": [
      "Unnamed: 0    94\n",
      "0             93\n",
      "dtype: int64\n"
     ]
    }
   ],
   "source": [
    "print(data.count())"
   ]
  },
  {
   "cell_type": "code",
   "execution_count": 460,
   "metadata": {},
   "outputs": [],
   "source": [
    "data=data.drop(\"Unnamed: 0\",axis=1)\n",
    "data.columns=[\"Tekerlemeler\"]"
   ]
  },
  {
   "cell_type": "code",
   "execution_count": 461,
   "metadata": {},
   "outputs": [
    {
     "data": {
      "text/html": [
       "<div>\n",
       "<style scoped>\n",
       "    .dataframe tbody tr th:only-of-type {\n",
       "        vertical-align: middle;\n",
       "    }\n",
       "\n",
       "    .dataframe tbody tr th {\n",
       "        vertical-align: top;\n",
       "    }\n",
       "\n",
       "    .dataframe thead th {\n",
       "        text-align: right;\n",
       "    }\n",
       "</style>\n",
       "<table border=\"1\" class=\"dataframe\">\n",
       "  <thead>\n",
       "    <tr style=\"text-align: right;\">\n",
       "      <th></th>\n",
       "      <th>Tekerlemeler</th>\n",
       "    </tr>\n",
       "  </thead>\n",
       "  <tbody>\n",
       "    <tr>\n",
       "      <th>0</th>\n",
       "      <td>Serçe ile söyleşenin sesi semadan gelir.</td>\n",
       "    </tr>\n",
       "    <tr>\n",
       "      <th>1</th>\n",
       "      <td>Gül dibi bülbül dili gibi, bülbül dili gül dib...</td>\n",
       "    </tr>\n",
       "    <tr>\n",
       "      <th>2</th>\n",
       "      <td>Keşkekçinin keşkekleşmemiş keşkek kepçesi</td>\n",
       "    </tr>\n",
       "    <tr>\n",
       "      <th>3</th>\n",
       "      <td>Şu duvarı badanalamalı mı? Badanalamamalı mı?</td>\n",
       "    </tr>\n",
       "    <tr>\n",
       "      <th>4</th>\n",
       "      <td>Bu mum umumumuzun mumu.</td>\n",
       "    </tr>\n",
       "    <tr>\n",
       "      <th>5</th>\n",
       "      <td>Nankör nalbant nalları nallamalı mı, nallamama...</td>\n",
       "    </tr>\n",
       "    <tr>\n",
       "      <th>6</th>\n",
       "      <td>Kapı gıcırdatanlardan mısınız? Kıvılcım sıçrat...</td>\n",
       "    </tr>\n",
       "    <tr>\n",
       "      <th>7</th>\n",
       "      <td>Bu yoğurdu sarımsaklasak da mı saklasak, sarım...</td>\n",
       "    </tr>\n",
       "    <tr>\n",
       "      <th>8</th>\n",
       "      <td>Bu çocuğu gıdıklasak da güldürsek mi? Yoksa gı...</td>\n",
       "    </tr>\n",
       "    <tr>\n",
       "      <th>9</th>\n",
       "      <td>Herkes bazlama yapıp bazlamalandı da biz bir b...</td>\n",
       "    </tr>\n",
       "  </tbody>\n",
       "</table>\n",
       "</div>"
      ],
      "text/plain": [
       "                                        Tekerlemeler\n",
       "0           Serçe ile söyleşenin sesi semadan gelir.\n",
       "1  Gül dibi bülbül dili gibi, bülbül dili gül dib...\n",
       "2          Keşkekçinin keşkekleşmemiş keşkek kepçesi\n",
       "3      Şu duvarı badanalamalı mı? Badanalamamalı mı?\n",
       "4                            Bu mum umumumuzun mumu.\n",
       "5  Nankör nalbant nalları nallamalı mı, nallamama...\n",
       "6  Kapı gıcırdatanlardan mısınız? Kıvılcım sıçrat...\n",
       "7  Bu yoğurdu sarımsaklasak da mı saklasak, sarım...\n",
       "8  Bu çocuğu gıdıklasak da güldürsek mi? Yoksa gı...\n",
       "9  Herkes bazlama yapıp bazlamalandı da biz bir b..."
      ]
     },
     "execution_count": 461,
     "metadata": {},
     "output_type": "execute_result"
    }
   ],
   "source": [
    "data.head(10)"
   ]
  },
  {
   "cell_type": "code",
   "execution_count": 462,
   "metadata": {},
   "outputs": [
    {
     "data": {
      "text/html": [
       "<div>\n",
       "<style scoped>\n",
       "    .dataframe tbody tr th:only-of-type {\n",
       "        vertical-align: middle;\n",
       "    }\n",
       "\n",
       "    .dataframe tbody tr th {\n",
       "        vertical-align: top;\n",
       "    }\n",
       "\n",
       "    .dataframe thead th {\n",
       "        text-align: right;\n",
       "    }\n",
       "</style>\n",
       "<table border=\"1\" class=\"dataframe\">\n",
       "  <thead>\n",
       "    <tr style=\"text-align: right;\">\n",
       "      <th></th>\n",
       "      <th>Tekerlemeler</th>\n",
       "    </tr>\n",
       "  </thead>\n",
       "  <tbody>\n",
       "    <tr>\n",
       "      <th>count</th>\n",
       "      <td>93</td>\n",
       "    </tr>\n",
       "    <tr>\n",
       "      <th>unique</th>\n",
       "      <td>91</td>\n",
       "    </tr>\n",
       "    <tr>\n",
       "      <th>top</th>\n",
       "      <td>Dört deryanın deresini dört dergâhın derbendin...</td>\n",
       "    </tr>\n",
       "    <tr>\n",
       "      <th>freq</th>\n",
       "      <td>2</td>\n",
       "    </tr>\n",
       "  </tbody>\n",
       "</table>\n",
       "</div>"
      ],
      "text/plain": [
       "                                             Tekerlemeler\n",
       "count                                                  93\n",
       "unique                                                 91\n",
       "top     Dört deryanın deresini dört dergâhın derbendin...\n",
       "freq                                                    2"
      ]
     },
     "execution_count": 462,
     "metadata": {},
     "output_type": "execute_result"
    }
   ],
   "source": [
    "data.describe() # [Dört deryanın deresini dört dergâhın ... ] şeklinde 2 adet tekerleme varmış , birini silelim."
   ]
  },
  {
   "cell_type": "code",
   "execution_count": 463,
   "metadata": {},
   "outputs": [
    {
     "name": "stdout",
     "output_type": "stream",
     "text": [
      "Eşleşmedi ..\n",
      "Eşleşmedi ..\n",
      "Eşleşmedi ..\n",
      "Eşleşmedi ..\n",
      "Eşleşmedi ..\n",
      "Eşleşmedi ..\n",
      "Eşleşmedi ..\n",
      "Eşleşmedi ..\n",
      "Eşleşmedi ..\n",
      "Eşleşmedi ..\n",
      "Eşleşmedi ..\n",
      "Eşleşmedi ..\n",
      "Eşleşmedi ..\n",
      "Eşleşmedi ..\n",
      "Eşleşmedi ..\n",
      "Eşleşmedi ..\n",
      "Eşleşmedi ..\n",
      "Eşleşmedi ..\n",
      "Eşleşmedi ..\n",
      "Eşleşmedi ..\n",
      "Eşleşmedi ..\n",
      "Eşleşmedi ..\n",
      "Eşleşmedi ..\n",
      "Eşleşmedi ..\n",
      "Eşleşmedi ..\n",
      "Eşleşmedi ..\n",
      "Eşleşmedi ..\n",
      "Eşleşmedi ..\n",
      "Eşleşmedi ..\n",
      "Eşleşmedi ..\n",
      "Eşleşmedi ..\n",
      "Eşleşme bulundu .... Siliniyor....\n",
      "\n",
      "row => 31\n",
      "Dört deryanın deresini dört dergâhın derbendine devrederlerse, dört deryadan dört dert, dört dergâhtan dört dev çıkar.\n",
      "Silindi.\n"
     ]
    },
    {
     "name": "stderr",
     "output_type": "stream",
     "text": [
      "/home/rguven/anaconda3/envs/py20/lib/python3.6/site-packages/ipykernel_launcher.py:3: FutureWarning: `item` has been deprecated and will be removed in a future version\n",
      "  This is separate from the ipykernel package so we can avoid doing imports until\n",
      "/home/rguven/anaconda3/envs/py20/lib/python3.6/site-packages/ipykernel_launcher.py:7: FutureWarning: `item` has been deprecated and will be removed in a future version\n",
      "  import sys\n"
     ]
    }
   ],
   "source": [
    "for freq in range(len(data)):\n",
    "    \n",
    "    if data.iloc[freq].item()== str(\"Dört deryanın deresini dört dergâhın derbendine devrederlerse, dört deryadan dört dert, dört dergâhtan dört dev çıkar.\"):\n",
    "        print(\"Eşleşme bulundu .... Siliniyor....\\n\")\n",
    "        \n",
    "        print(\"row =>\" ,freq)\n",
    "        print(data.iloc[freq].item())\n",
    "        data=data.drop(index=31)\n",
    "        print(\"Silindi.\")\n",
    "        break\n",
    "    else:\n",
    "        print(\"Eşleşmedi ..\")\n"
   ]
  },
  {
   "cell_type": "code",
   "execution_count": 464,
   "metadata": {},
   "outputs": [],
   "source": [
    "Words_Frequency=data[\"Tekerlemeler\"].str.split(expand=True).stack().value_counts()  #Pandas.Series"
   ]
  },
  {
   "cell_type": "code",
   "execution_count": 465,
   "metadata": {},
   "outputs": [
    {
     "name": "stdout",
     "output_type": "stream",
     "text": [
      "boz       38\n",
      "da        27\n",
      "bir       25\n",
      "beş       24\n",
      "yırtık    22\n",
      "dtype: int64\n",
      "<class 'pandas.core.series.Series'>\n",
      "<class 'set'>\n"
     ]
    }
   ],
   "source": [
    "visualize_words=Words_Frequency[Words_Frequency >=20]\n",
    "print(visualize_words)\n",
    "print(type(visualize_words))\n",
    "visualize_words_1=set(visualize_words)\n",
    "print(type(visualize_words_1))"
   ]
  },
  {
   "cell_type": "code",
   "execution_count": 466,
   "metadata": {},
   "outputs": [],
   "source": [
    "frequency=visualize_words.values"
   ]
  },
  {
   "cell_type": "code",
   "execution_count": 467,
   "metadata": {},
   "outputs": [
    {
     "name": "stdout",
     "output_type": "stream",
     "text": [
      "[38 27 25 24 22]\n",
      "['boz', 'da', 'bir', 'beş', 'yırtık']\n"
     ]
    }
   ],
   "source": [
    "print(frequency)\n",
    "key=[\"boz\",\"da\",\"bir\",\"beş\",\"yırtık\"]\n",
    "print(key)"
   ]
  },
  {
   "cell_type": "code",
   "execution_count": 468,
   "metadata": {},
   "outputs": [],
   "source": [
    "import matplotlib.pyplot as plt"
   ]
  },
  {
   "cell_type": "code",
   "execution_count": 469,
   "metadata": {},
   "outputs": [
    {
     "data": {
      "image/png": "[encoded data removed]",
      "text/plain": [
       "<Figure size 432x288 with 1 Axes>"
      ]
     },
     "metadata": {
      "needs_background": "light"
     },
     "output_type": "display_data"
    }
   ],
   "source": [
    "plt.bar(key,frequency,color=\"green\",alpha=1)\n",
    "plt.title('100 Tekerlemede En Sık Geçen Kelimeler')\n",
    "plt.show()"
   ]
  },
  {
   "cell_type": "code",
   "execution_count": null,
   "metadata": {},
   "outputs": [],
   "source": [
    "#Türkçedeki yaklaşık 100 tekerlemede en çok tekrar eden kelimeler,bağlaçlar ve adetleri tespit edilmiştir."
   ]
  }
 ],
 "metadata": {
  "kernelspec": {
   "display_name": "Python 3",
   "language": "python",
   "name": "python3"
  },
  "language_info": {
   "codemirror_mode": {
    "name": "ipython",
    "version": 3
   },
   "file_extension": ".py",
   "mimetype": "text/x-python",
   "name": "python",
   "nbconvert_exporter": "python",
   "pygments_lexer": "ipython3",
   "version": "3.6.9"
  }
 },
 "nbformat": 4,
 "nbformat_minor": 2
}
